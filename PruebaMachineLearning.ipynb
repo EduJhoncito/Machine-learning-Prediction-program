{
 "cells": [
  {
   "cell_type": "code",
   "execution_count": 25,
   "id": "ea318c94",
   "metadata": {},
   "outputs": [
    {
     "name": "stderr",
     "output_type": "stream",
     "text": [
      "C:\\ProgramData\\Anaconda3\\lib\\site-packages\\sklearn\\base.py:450: UserWarning: X does not have valid feature names, but DecisionTreeClassifier was fitted with feature names\n",
      "  warnings.warn(\n"
     ]
    },
    {
     "data": {
      "text/plain": [
       "array(['football', 'running'], dtype=object)"
      ]
     },
     "execution_count": 25,
     "metadata": {},
     "output_type": "execute_result"
    }
   ],
   "source": [
    "import pandas as pd\n",
    "\n",
    "from sklearn.tree import DecisionTreeClassifier\n",
    "import joblib\n",
    "\n",
    "#dataset=pd.read_csv(\"deportes.csv\")\n",
    "#inputs=dataset.drop(columns=[\"deporte\"])\n",
    "#outputs=dataset[\"deporte\"]\n",
    "#dataset[\"deporte\"]\n",
    "\n",
    "#modelo=DecisionTreeClassifier()\n",
    "#modelo.fit(inputs,outputs)\n",
    "\n",
    "#joblib.dump(modelo, \"deportes-ml.joblib\")\n",
    "\n",
    "modelo=joblib.load(\"deportes-ml.joblib\")\n",
    "\n",
    "predicciones=modelo.predict([ [1,24], [2,24] ])\n",
    "predicciones"
   ]
  },
  {
   "cell_type": "code",
   "execution_count": null,
   "id": "6a16c1ea",
   "metadata": {},
   "outputs": [],
   "source": []
  }
 ],
 "metadata": {
  "kernelspec": {
   "display_name": "Python 3 (ipykernel)",
   "language": "python",
   "name": "python3"
  },
  "language_info": {
   "codemirror_mode": {
    "name": "ipython",
    "version": 3
   },
   "file_extension": ".py",
   "mimetype": "text/x-python",
   "name": "python",
   "nbconvert_exporter": "python",
   "pygments_lexer": "ipython3",
   "version": "3.9.12"
  }
 },
 "nbformat": 4,
 "nbformat_minor": 5
}
